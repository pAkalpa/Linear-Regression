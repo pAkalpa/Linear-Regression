{
 "cells": [
  {
   "cell_type": "code",
   "execution_count": 1,
   "metadata": {
    "ExecuteTime": {
     "end_time": "2021-01-31T07:42:31.391103Z",
     "start_time": "2021-01-31T07:42:30.913398Z"
    }
   },
   "outputs": [
    {
     "name": "stdout",
     "output_type": "stream",
     "text": [
      "[[ -9. 102.]\n",
      " [ -8. 112.]\n",
      " [ -7.  72.]\n",
      " [ -6.  46.]\n",
      " [ -5.  70.]\n",
      " [ -4.  57.]\n",
      " [ -3.  28.]\n",
      " [ -2.  12.]\n",
      " [ -1.  36.]\n",
      " [  0.  21.]\n",
      " [  1.   9.]\n",
      " [  2.   7.]\n",
      " [  3.  37.]\n",
      " [  4.  30.]\n",
      " [  5.  40.]\n",
      " [  6.  44.]\n",
      " [  7.  97.]\n",
      " [  8.  76.]\n",
      " [  9.  90.]]\n"
     ]
    }
   ],
   "source": [
    "import pandas as pd\n",
    "dataset = pd.read_csv('none-linear-dataset.csv').values\n",
    "print(dataset)"
   ]
  },
  {
   "cell_type": "code",
   "execution_count": 2,
   "metadata": {
    "ExecuteTime": {
     "end_time": "2021-01-31T07:42:31.397098Z",
     "start_time": "2021-01-31T07:42:31.393101Z"
    }
   },
   "outputs": [],
   "source": [
    "data = dataset[:,0]\n",
    "target = dataset[:,1]"
   ]
  },
  {
   "cell_type": "code",
   "execution_count": 3,
   "metadata": {
    "ExecuteTime": {
     "end_time": "2021-01-31T07:42:31.973742Z",
     "start_time": "2021-01-31T07:42:31.404094Z"
    }
   },
   "outputs": [
    {
     "data": {
      "text/plain": [
       "[]"
      ]
     },
     "execution_count": 3,
     "metadata": {},
     "output_type": "execute_result"
    },
    {
     "data": {
      "image/png": "[encoded data removed]",
      "text/plain": [
       "<Figure size 432x288 with 1 Axes>"
      ]
     },
     "metadata": {
      "needs_background": "light"
     },
     "output_type": "display_data"
    }
   ],
   "source": [
    "import matplotlib.pyplot as plt\n",
    "\n",
    "plt.scatter(data,target)\n",
    "plt.xlabel('data')\n",
    "plt.ylabel('target')\n",
    "plt.plot()"
   ]
  },
  {
   "cell_type": "code",
   "execution_count": 4,
   "metadata": {
    "ExecuteTime": {
     "end_time": "2021-01-31T07:42:31.981737Z",
     "start_time": "2021-01-31T07:42:31.974742Z"
    }
   },
   "outputs": [
    {
     "name": "stdout",
     "output_type": "stream",
     "text": [
      "x1: [[-9.]\n",
      " [-8.]\n",
      " [-7.]\n",
      " [-6.]\n",
      " [-5.]\n",
      " [-4.]\n",
      " [-3.]\n",
      " [-2.]\n",
      " [-1.]\n",
      " [ 0.]\n",
      " [ 1.]\n",
      " [ 2.]\n",
      " [ 3.]\n",
      " [ 4.]\n",
      " [ 5.]\n",
      " [ 6.]\n",
      " [ 7.]\n",
      " [ 8.]\n",
      " [ 9.]]\n",
      "x2: [[81.]\n",
      " [64.]\n",
      " [49.]\n",
      " [36.]\n",
      " [25.]\n",
      " [16.]\n",
      " [ 9.]\n",
      " [ 4.]\n",
      " [ 1.]\n",
      " [ 0.]\n",
      " [ 1.]\n",
      " [ 4.]\n",
      " [ 9.]\n",
      " [16.]\n",
      " [25.]\n",
      " [36.]\n",
      " [49.]\n",
      " [64.]\n",
      " [81.]]\n"
     ]
    }
   ],
   "source": [
    "import numpy as np\n",
    "\n",
    "x1 = dataset[:,0].reshape(-1,1)\n",
    "print('x1:',x1)\n",
    "x2 = np.power(x1,2)\n",
    "print('x2:',x2)"
   ]
  },
  {
   "cell_type": "code",
   "execution_count": 5,
   "metadata": {
    "ExecuteTime": {
     "end_time": "2021-01-31T07:42:32.028710Z",
     "start_time": "2021-01-31T07:42:31.983736Z"
    }
   },
   "outputs": [
    {
     "name": "stdout",
     "output_type": "stream",
     "text": [
      "[[-9. 81.]\n",
      " [-8. 64.]\n",
      " [-7. 49.]\n",
      " [-6. 36.]\n",
      " [-5. 25.]\n",
      " [-4. 16.]\n",
      " [-3.  9.]\n",
      " [-2.  4.]\n",
      " [-1.  1.]\n",
      " [ 0.  0.]\n",
      " [ 1.  1.]\n",
      " [ 2.  4.]\n",
      " [ 3.  9.]\n",
      " [ 4. 16.]\n",
      " [ 5. 25.]\n",
      " [ 6. 36.]\n",
      " [ 7. 49.]\n",
      " [ 8. 64.]\n",
      " [ 9. 81.]]\n"
     ]
    }
   ],
   "source": [
    "data_new = np.append(x1,x2,axis=1)\n",
    "print(data_new)"
   ]
  },
  {
   "cell_type": "code",
   "execution_count": 6,
   "metadata": {
    "ExecuteTime": {
     "end_time": "2021-01-31T07:42:33.254232Z",
     "start_time": "2021-01-31T07:42:32.030709Z"
    }
   },
   "outputs": [],
   "source": [
    "from sklearn.model_selection import train_test_split\n",
    "\n",
    "train_data,test_data,train_target,test_target = train_test_split(data_new,target,test_size=0.1)"
   ]
  },
  {
   "cell_type": "code",
   "execution_count": 7,
   "metadata": {
    "ExecuteTime": {
     "end_time": "2021-01-31T07:42:33.312192Z",
     "start_time": "2021-01-31T07:42:33.258225Z"
    }
   },
   "outputs": [
    {
     "data": {
      "text/plain": [
       "LinearRegression()"
      ]
     },
     "execution_count": 7,
     "metadata": {},
     "output_type": "execute_result"
    }
   ],
   "source": [
    "from sklearn.linear_model import LinearRegression\n",
    "\n",
    "model = LinearRegression()\n",
    "model.fit(train_data,train_target)"
   ]
  },
  {
   "cell_type": "code",
   "execution_count": 8,
   "metadata": {
    "ExecuteTime": {
     "end_time": "2021-01-31T07:42:33.332178Z",
     "start_time": "2021-01-31T07:42:33.314190Z"
    }
   },
   "outputs": [
    {
     "name": "stdout",
     "output_type": "stream",
     "text": [
      "coefs: [-0.64565849  1.08263179]\n",
      "c: 18.994436196425134\n"
     ]
    }
   ],
   "source": [
    "print('coefs:',model.coef_)\n",
    "print('c:',model.intercept_)"
   ]
  },
  {
   "cell_type": "code",
   "execution_count": 9,
   "metadata": {
    "ExecuteTime": {
     "end_time": "2021-01-31T07:42:33.368156Z",
     "start_time": "2021-01-31T07:42:33.333179Z"
    }
   },
   "outputs": [],
   "source": [
    "a1 = model.coef_[0]\n",
    "a2 = model.coef_[1]\n",
    "a0 = model.intercept_"
   ]
  },
  {
   "cell_type": "code",
   "execution_count": 10,
   "metadata": {
    "ExecuteTime": {
     "end_time": "2021-01-31T07:42:33.406472Z",
     "start_time": "2021-01-31T07:42:33.370155Z"
    }
   },
   "outputs": [],
   "source": [
    "xvals = np.arange(-10,10)\n",
    "yvlas = a1 * xvals + a2 * np.power(xvals,2) + a0"
   ]
  },
  {
   "cell_type": "code",
   "execution_count": 11,
   "metadata": {
    "ExecuteTime": {
     "end_time": "2021-01-31T07:42:33.647325Z",
     "start_time": "2021-01-31T07:42:33.408470Z"
    }
   },
   "outputs": [
    {
     "data": {
      "image/png": "[encoded data removed]",
      "text/plain": [
       "<Figure size 432x288 with 1 Axes>"
      ]
     },
     "metadata": {
      "needs_background": "light"
     },
     "output_type": "display_data"
    }
   ],
   "source": [
    "plt.scatter(data,target)\n",
    "plt.plot(xvals,yvlas,'r',label='Best Fit Curve')\n",
    "plt.xlabel('Features -(x)')\n",
    "plt.ylabel('Label -(y)')\n",
    "plt.legend()\n",
    "plt.show()"
   ]
  },
  {
   "cell_type": "code",
   "execution_count": 12,
   "metadata": {
    "ExecuteTime": {
     "end_time": "2021-01-31T07:42:33.653319Z",
     "start_time": "2021-01-31T07:42:33.648322Z"
    }
   },
   "outputs": [],
   "source": [
    "data = dataset[:,0].reshape(-1,1)"
   ]
  },
  {
   "cell_type": "code",
   "execution_count": 13,
   "metadata": {
    "ExecuteTime": {
     "end_time": "2021-01-31T07:42:33.693294Z",
     "start_time": "2021-01-31T07:42:33.655318Z"
    }
   },
   "outputs": [
    {
     "name": "stdout",
     "output_type": "stream",
     "text": [
      "[[-9. 81.]\n",
      " [-8. 64.]\n",
      " [-7. 49.]\n",
      " [-6. 36.]\n",
      " [-5. 25.]\n",
      " [-4. 16.]\n",
      " [-3.  9.]\n",
      " [-2.  4.]\n",
      " [-1.  1.]\n",
      " [ 0.  0.]\n",
      " [ 1.  1.]\n",
      " [ 2.  4.]\n",
      " [ 3.  9.]\n",
      " [ 4. 16.]\n",
      " [ 5. 25.]\n",
      " [ 6. 36.]\n",
      " [ 7. 49.]\n",
      " [ 8. 64.]\n",
      " [ 9. 81.]]\n"
     ]
    }
   ],
   "source": [
    "from sklearn.preprocessing import PolynomialFeatures\n",
    "\n",
    "poly = PolynomialFeatures(degree=2,include_bias=False)\n",
    "data_new = poly.fit_transform(data)\n",
    "\n",
    "print(data_new)"
   ]
  },
  {
   "cell_type": "code",
   "execution_count": 14,
   "metadata": {
    "ExecuteTime": {
     "end_time": "2021-01-31T07:42:33.741265Z",
     "start_time": "2021-01-31T07:42:33.695293Z"
    }
   },
   "outputs": [
    {
     "data": {
      "text/plain": [
       "LinearRegression()"
      ]
     },
     "execution_count": 14,
     "metadata": {},
     "output_type": "execute_result"
    }
   ],
   "source": [
    "model.fit(train_data,train_target)"
   ]
  },
  {
   "cell_type": "code",
   "execution_count": 15,
   "metadata": {
    "ExecuteTime": {
     "end_time": "2021-01-31T07:42:33.785365Z",
     "start_time": "2021-01-31T07:42:33.743263Z"
    }
   },
   "outputs": [
    {
     "name": "stdout",
     "output_type": "stream",
     "text": [
      "m: [-0.64565849  1.08263179]\n",
      "c: 18.994436196425134\n"
     ]
    }
   ],
   "source": [
    "print('m:',model.coef_)\n",
    "print('c:',model.intercept_)"
   ]
  },
  {
   "cell_type": "code",
   "execution_count": 16,
   "metadata": {
    "ExecuteTime": {
     "end_time": "2021-01-31T07:42:33.823341Z",
     "start_time": "2021-01-31T07:42:33.787363Z"
    }
   },
   "outputs": [
    {
     "name": "stdout",
     "output_type": "stream",
     "text": [
      "test_data_new [[ 7.5  56.25]]\n",
      "result: [75.0500358]\n"
     ]
    }
   ],
   "source": [
    "test_data = [[7.5]]\n",
    "test_data_new = poly.transform(test_data)\n",
    "print('test_data_new',test_data_new)\n",
    "result = model.predict(test_data_new)\n",
    "print('result:',result)"
   ]
  }
 ],
 "metadata": {
  "kernelspec": {
   "display_name": "Python 3",
   "language": "python",
   "name": "python3"
  },
  "language_info": {
   "codemirror_mode": {
    "name": "ipython",
    "version": 3
   },
   "file_extension": ".py",
   "mimetype": "text/x-python",
   "name": "python",
   "nbconvert_exporter": "python",
   "pygments_lexer": "ipython3",
   "version": "3.8.5"
  },
  "varInspector": {
   "cols": {
    "lenName": 16,
    "lenType": 16,
    "lenVar": 40
   },
   "kernels_config": {
    "python": {
     "delete_cmd_postfix": "",
     "delete_cmd_prefix": "del ",
     "library": "var_list.py",
     "varRefreshCmd": "print(var_dic_list())"
    },
    "r": {
     "delete_cmd_postfix": ") ",
     "delete_cmd_prefix": "rm(",
     "library": "var_list.r",
     "varRefreshCmd": "cat(var_dic_list()) "
    }
   },
   "types_to_exclude": [
    "module",
    "function",
    "builtin_function_or_method",
    "instance",
    "_Feature"
   ],
   "window_display": false
  }
 },
 "nbformat": 4,
 "nbformat_minor": 4
}
