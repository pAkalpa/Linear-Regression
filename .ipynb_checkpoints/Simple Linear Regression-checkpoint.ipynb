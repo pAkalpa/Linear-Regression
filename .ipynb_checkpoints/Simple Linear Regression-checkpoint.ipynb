{
 "cells": [
  {
   "cell_type": "code",
   "execution_count": 1,
   "metadata": {
    "ExecuteTime": {
     "end_time": "2021-01-31T07:03:15.110775Z",
     "start_time": "2021-01-31T07:03:14.658112Z"
    }
   },
   "outputs": [],
   "source": [
    "import pandas as pd\n",
    "\n",
    "dataset = pd.read_csv('weight-vs-height.csv').values"
   ]
  },
  {
   "cell_type": "code",
   "execution_count": 2,
   "metadata": {
    "ExecuteTime": {
     "end_time": "2021-01-31T07:03:15.116771Z",
     "start_time": "2021-01-31T07:03:15.111772Z"
    }
   },
   "outputs": [],
   "source": [
    "data = dataset[:,0].reshape(-1,1)\n",
    "target = dataset[:,1].reshape(-1,1)"
   ]
  },
  {
   "cell_type": "code",
   "execution_count": 3,
   "metadata": {
    "ExecuteTime": {
     "end_time": "2021-01-31T07:03:15.765909Z",
     "start_time": "2021-01-31T07:03:15.119765Z"
    }
   },
   "outputs": [
    {
     "data": {
      "text/plain": [
       "[]"
      ]
     },
     "execution_count": 3,
     "metadata": {},
     "output_type": "execute_result"
    },
    {
     "data": {
      "image/png": "[encoded data removed]",
      "text/plain": [
       "<Figure size 432x288 with 1 Axes>"
      ]
     },
     "metadata": {
      "needs_background": "light"
     },
     "output_type": "display_data"
    }
   ],
   "source": [
    "import matplotlib.pyplot as plt\n",
    "\n",
    "plt.scatter(data,target)\n",
    "plt.xlabel('Weight (kg)-x')\n",
    "plt.ylabel('Height (cm)-y')\n",
    "plt.plot()"
   ]
  },
  {
   "cell_type": "code",
   "execution_count": 4,
   "metadata": {
    "ExecuteTime": {
     "end_time": "2021-01-31T07:03:16.948401Z",
     "start_time": "2021-01-31T07:03:15.767910Z"
    }
   },
   "outputs": [
    {
     "data": {
      "text/plain": [
       "LinearRegression()"
      ]
     },
     "execution_count": 4,
     "metadata": {},
     "output_type": "execute_result"
    }
   ],
   "source": [
    "from sklearn.model_selection import train_test_split\n",
    "from sklearn.linear_model import LinearRegression\n",
    "\n",
    "model = LinearRegression()\n",
    "train_data,test_data,train_target,test_target = train_test_split(data,target,test_size=0.1)\n",
    "model.fit(train_data,train_target)"
   ]
  },
  {
   "cell_type": "code",
   "execution_count": 5,
   "metadata": {
    "ExecuteTime": {
     "end_time": "2021-01-31T07:03:16.957398Z",
     "start_time": "2021-01-31T07:03:16.950400Z"
    }
   },
   "outputs": [
    {
     "name": "stdout",
     "output_type": "stream",
     "text": [
      "m [[1.22800519]]\n",
      "c [56.74939804]\n"
     ]
    }
   ],
   "source": [
    "print('m',model.coef_)\n",
    "print('c',model.intercept_)\n",
    "\n",
    "m = model.coef_[0][0]\n",
    "c = model.intercept_[0]"
   ]
  },
  {
   "cell_type": "code",
   "execution_count": 10,
   "metadata": {
    "ExecuteTime": {
     "end_time": "2021-01-31T07:08:18.789680Z",
     "start_time": "2021-01-31T07:08:18.785684Z"
    }
   },
   "outputs": [],
   "source": [
    "import numpy as np\n",
    "xvals = np.arange(40,100)\n",
    "yvals = m * xvals + c"
   ]
  },
  {
   "cell_type": "code",
   "execution_count": 11,
   "metadata": {
    "ExecuteTime": {
     "end_time": "2021-01-31T07:08:22.165718Z",
     "start_time": "2021-01-31T07:08:22.161721Z"
    }
   },
   "outputs": [
    {
     "name": "stdout",
     "output_type": "stream",
     "text": [
      "yb [[161.12983886]]\n"
     ]
    }
   ],
   "source": [
    "xb = [[85]]\n",
    "yb = model.predict(xb)\n",
    "print('yb',yb)"
   ]
  },
  {
   "cell_type": "code",
   "execution_count": 12,
   "metadata": {
    "ExecuteTime": {
     "end_time": "2021-01-31T07:08:23.349609Z",
     "start_time": "2021-01-31T07:08:23.344614Z"
    }
   },
   "outputs": [
    {
     "name": "stdout",
     "output_type": "stream",
     "text": [
      "ybmanual: 161.12983885904794\n"
     ]
    }
   ],
   "source": [
    "ybmanual = m * 85 + c\n",
    "print('ybmanual:',ybmanual)"
   ]
  },
  {
   "cell_type": "code",
   "execution_count": 13,
   "metadata": {
    "ExecuteTime": {
     "end_time": "2021-01-31T07:08:24.469564Z",
     "start_time": "2021-01-31T07:08:24.177747Z"
    }
   },
   "outputs": [
    {
     "data": {
      "image/png": "[encoded data removed]",
      "text/plain": [
       "<Figure size 432x288 with 1 Axes>"
      ]
     },
     "metadata": {
      "needs_background": "light"
     },
     "output_type": "display_data"
    }
   ],
   "source": [
    "plt.scatter(data,target)\n",
    "plt.plot(xvals,yvals,'r',label='Best Fit Line')\n",
    "plt.scatter(xb,yb,c='g')\n",
    "plt.xlabel('Feature (Weights(Kg)-x)')\n",
    "plt.ylabel('Label (Heights(cm)-y)')\n",
    "plt.legend()\n",
    "plt.show()"
   ]
  }
 ],
 "metadata": {
  "kernelspec": {
   "display_name": "Python 3",
   "language": "python",
   "name": "python3"
  },
  "language_info": {
   "codemirror_mode": {
    "name": "ipython",
    "version": 3
   },
   "file_extension": ".py",
   "mimetype": "text/x-python",
   "name": "python",
   "nbconvert_exporter": "python",
   "pygments_lexer": "ipython3",
   "version": "3.8.5"
  },
  "varInspector": {
   "cols": {
    "lenName": 16,
    "lenType": 16,
    "lenVar": 40
   },
   "kernels_config": {
    "python": {
     "delete_cmd_postfix": "",
     "delete_cmd_prefix": "del ",
     "library": "var_list.py",
     "varRefreshCmd": "print(var_dic_list())"
    },
    "r": {
     "delete_cmd_postfix": ") ",
     "delete_cmd_prefix": "rm(",
     "library": "var_list.r",
     "varRefreshCmd": "cat(var_dic_list()) "
    }
   },
   "types_to_exclude": [
    "module",
    "function",
    "builtin_function_or_method",
    "instance",
    "_Feature"
   ],
   "window_display": false
  }
 },
 "nbformat": 4,
 "nbformat_minor": 4
}
