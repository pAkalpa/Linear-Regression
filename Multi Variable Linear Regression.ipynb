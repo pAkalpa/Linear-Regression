{
 "cells": [
  {
   "cell_type": "code",
   "execution_count": 1,
   "metadata": {
    "ExecuteTime": {
     "end_time": "2021-01-31T10:49:05.176799Z",
     "start_time": "2021-01-31T10:49:03.452858Z"
    }
   },
   "outputs": [
    {
     "name": "stdout",
     "output_type": "stream",
     "text": [
      "[[  2.   48.  236.  ...   2.    0.    1.1]\n",
      " [  1.   48.  260.  ...   2.    1.    7. ]\n",
      " [  1.   44.  187.  ...   2.    0.    7. ]\n",
      " ...\n",
      " [  1.   65.  212.  ...   1.    0.   30.6]\n",
      " [  1.   66.  184.  ...   1.    0.   23.8]\n",
      " [  2.   45.  203.  ...   2.    0.    1. ]]\n"
     ]
    }
   ],
   "source": [
    "import pandas as pd\n",
    "import numpy as np\n",
    "from sklearn.model_selection import train_test_split\n",
    "from sklearn.linear_model import LinearRegression\n",
    "from sklearn.metrics import r2_score\n",
    "\n",
    "dataset = pd.read_csv('cardio_dataset.csv').values\n",
    "print(dataset)"
   ]
  },
  {
   "cell_type": "code",
   "execution_count": 2,
   "metadata": {
    "ExecuteTime": {
     "end_time": "2021-01-31T10:49:05.183795Z",
     "start_time": "2021-01-31T10:49:05.178797Z"
    }
   },
   "outputs": [
    {
     "name": "stdout",
     "output_type": "stream",
     "text": [
      "[[  2.  48. 236. ...   0.   2.   0.]\n",
      " [  1.  48. 260. ...   0.   2.   1.]\n",
      " [  1.  44. 187. ...   1.   2.   0.]\n",
      " ...\n",
      " [  1.  65. 212. ...   1.   1.   0.]\n",
      " [  1.  66. 184. ...   0.   1.   0.]\n",
      " [  2.  45. 203. ...   0.   2.   0.]]\n",
      "[[ 1.1]\n",
      " [ 7. ]\n",
      " [ 7. ]\n",
      " ...\n",
      " [30.6]\n",
      " [23.8]\n",
      " [ 1. ]]\n"
     ]
    }
   ],
   "source": [
    "data = dataset[:,0:7]\n",
    "target = dataset[:,7]\n",
    "\n",
    "target = np.reshape(target,(-1,1))\n",
    "\n",
    "print(data)\n",
    "print(target)"
   ]
  },
  {
   "cell_type": "code",
   "execution_count": 3,
   "metadata": {
    "ExecuteTime": {
     "end_time": "2021-01-31T10:49:05.646639Z",
     "start_time": "2021-01-31T10:49:05.188790Z"
    }
   },
   "outputs": [],
   "source": [
    "# from sklearn.preprocessing import PolynomialFeatures\n",
    "\n",
    "# poly = PolynomialFeatures(degree=2,include_bias=False)\n",
    "# data_new = poly.fit_transform(data[:,:2])\n",
    "# print(data_new[0],data_new.shape)\n",
    "# print(data[:,:2][0])"
   ]
  },
  {
   "cell_type": "code",
   "execution_count": 4,
   "metadata": {
    "ExecuteTime": {
     "end_time": "2021-01-31T10:49:05.692791Z",
     "start_time": "2021-01-31T10:49:05.651630Z"
    }
   },
   "outputs": [],
   "source": [
    "train_data,test_data,train_traget,test_target = train_test_split(data,target,test_size=0.1)"
   ]
  },
  {
   "cell_type": "code",
   "execution_count": 5,
   "metadata": {
    "ExecuteTime": {
     "end_time": "2021-01-31T10:49:05.758835Z",
     "start_time": "2021-01-31T10:49:05.694790Z"
    }
   },
   "outputs": [
    {
     "data": {
      "text/plain": [
       "LinearRegression()"
      ]
     },
     "execution_count": 5,
     "metadata": {},
     "output_type": "execute_result"
    }
   ],
   "source": [
    "model = LinearRegression()\n",
    "model.fit(train_data,train_traget)"
   ]
  },
  {
   "cell_type": "code",
   "execution_count": 6,
   "metadata": {
    "ExecuteTime": {
     "end_time": "2021-01-31T10:49:05.782820Z",
     "start_time": "2021-01-31T10:49:05.760835Z"
    }
   },
   "outputs": [
    {
     "name": "stdout",
     "output_type": "stream",
     "text": [
      "coef: [[-4.88846447  0.72560641  0.02639696 -0.07095204  5.86100901 -5.03240957\n",
      "  11.02409175]]\n",
      "a0: [-17.78616422]\n"
     ]
    }
   ],
   "source": [
    "print('coef:',model.coef_)\n",
    "print('a0:',model.intercept_)"
   ]
  },
  {
   "cell_type": "code",
   "execution_count": 7,
   "metadata": {
    "ExecuteTime": {
     "end_time": "2021-01-31T10:49:05.817800Z",
     "start_time": "2021-01-31T10:49:05.784820Z"
    }
   },
   "outputs": [],
   "source": [
    "predicted_target = model.predict(test_data)"
   ]
  },
  {
   "cell_type": "code",
   "execution_count": 8,
   "metadata": {
    "ExecuteTime": {
     "end_time": "2021-01-31T10:49:05.855775Z",
     "start_time": "2021-01-31T10:49:05.820797Z"
    }
   },
   "outputs": [
    {
     "name": "stdout",
     "output_type": "stream",
     "text": [
      "Actual: [[ 0.6]\n",
      " [ 2.7]\n",
      " [ 6.7]\n",
      " [22.1]\n",
      " [11.6]\n",
      " [40.2]\n",
      " [ 1.7]\n",
      " [ 2.2]\n",
      " [ 4.1]\n",
      " [32.8]]\n",
      "Predict: [[-6.48286192]\n",
      " [ 7.58877699]\n",
      " [12.21028265]\n",
      " [30.94122768]\n",
      " [22.57293329]\n",
      " [24.46917525]\n",
      " [ 8.00569526]\n",
      " [ 1.58460914]\n",
      " [ 6.28830686]\n",
      " [36.42525209]]\n"
     ]
    }
   ],
   "source": [
    "print('Actual:',test_target[:10])\n",
    "print('Predict:',predicted_target[:10])"
   ]
  },
  {
   "cell_type": "code",
   "execution_count": 9,
   "metadata": {
    "ExecuteTime": {
     "end_time": "2021-01-31T10:49:05.894751Z",
     "start_time": "2021-01-31T10:49:05.857774Z"
    }
   },
   "outputs": [
    {
     "name": "stdout",
     "output_type": "stream",
     "text": [
      "r2: 0.7406522985925154\n"
     ]
    }
   ],
   "source": [
    "r2 = r2_score(test_target,predicted_target)\n",
    "print('r2:',r2)"
   ]
  },
  {
   "cell_type": "code",
   "execution_count": 10,
   "metadata": {
    "ExecuteTime": {
     "end_time": "2021-01-31T10:50:16.606198Z",
     "start_time": "2021-01-31T10:50:16.600201Z"
    }
   },
   "outputs": [
    {
     "data": {
      "text/plain": [
       "['heart_risk_prediction_regression_model.sav']"
      ]
     },
     "execution_count": 10,
     "metadata": {},
     "output_type": "execute_result"
    }
   ],
   "source": [
    "import joblib\n",
    "joblib.dump(model,'heart_risk_prediction_regression_model.sav')"
   ]
  }
 ],
 "metadata": {
  "kernelspec": {
   "display_name": "Python 3",
   "language": "python",
   "name": "python3"
  },
  "language_info": {
   "codemirror_mode": {
    "name": "ipython",
    "version": 3
   },
   "file_extension": ".py",
   "mimetype": "text/x-python",
   "name": "python",
   "nbconvert_exporter": "python",
   "pygments_lexer": "ipython3",
   "version": "3.8.5"
  },
  "varInspector": {
   "cols": {
    "lenName": 16,
    "lenType": 16,
    "lenVar": 40
   },
   "kernels_config": {
    "python": {
     "delete_cmd_postfix": "",
     "delete_cmd_prefix": "del ",
     "library": "var_list.py",
     "varRefreshCmd": "print(var_dic_list())"
    },
    "r": {
     "delete_cmd_postfix": ") ",
     "delete_cmd_prefix": "rm(",
     "library": "var_list.r",
     "varRefreshCmd": "cat(var_dic_list()) "
    }
   },
   "types_to_exclude": [
    "module",
    "function",
    "builtin_function_or_method",
    "instance",
    "_Feature"
   ],
   "window_display": false
  }
 },
 "nbformat": 4,
 "nbformat_minor": 4
}
